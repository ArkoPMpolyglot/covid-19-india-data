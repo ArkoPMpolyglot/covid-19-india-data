{
 "cells": [
  {
   "cell_type": "markdown",
   "metadata": {},
   "source": [
    "## Data Source"
   ]
  },
  {
   "cell_type": "markdown",
   "metadata": {},
   "source": [
    "https://api.covid19india.org/"
   ]
  },
  {
   "cell_type": "markdown",
   "metadata": {},
   "source": [
    "## Import libraries"
   ]
  },
  {
   "cell_type": "code",
   "execution_count": 37,
   "metadata": {},
   "outputs": [],
   "source": [
    "# to get web contents\n",
    "import requests\n",
    "# to parse json contents\n",
    "import json\n",
    "# to parse csv files\n",
    "import csv\n",
    "\n",
    "# for numerical operations\n",
    "import numpy as np\n",
    "# to store and analysis data in dataframes\n",
    "import pandas as pd"
   ]
  },
  {
   "cell_type": "markdown",
   "metadata": {},
   "source": [
    "## Get data"
   ]
  },
  {
   "cell_type": "code",
   "execution_count": 38,
   "metadata": {},
   "outputs": [],
   "source": [
    "# get response from the web page\n",
    "response = requests.get('https://api.covid19india.org/raw_data.json')\n",
    "# get contents from the response\n",
    "content = response.content\n",
    "# parse the json file\n",
    "parsed = json.loads(content)"
   ]
  },
  {
   "cell_type": "code",
   "execution_count": 39,
   "metadata": {},
   "outputs": [
    {
     "data": {
      "text/plain": [
       "dict_keys(['raw_data'])"
      ]
     },
     "execution_count": 39,
     "metadata": {},
     "output_type": "execute_result"
    }
   ],
   "source": [
    "# contents inside json file\n",
    "parsed.keys()"
   ]
  },
  {
   "cell_type": "markdown",
   "metadata": {},
   "source": [
    "## Save data"
   ]
  },
  {
   "cell_type": "code",
   "execution_count": 40,
   "metadata": {},
   "outputs": [
    {
     "data": {
      "text/html": [
       "<div>\n",
       "<style scoped>\n",
       "    .dataframe tbody tr th:only-of-type {\n",
       "        vertical-align: middle;\n",
       "    }\n",
       "\n",
       "    .dataframe tbody tr th {\n",
       "        vertical-align: top;\n",
       "    }\n",
       "\n",
       "    .dataframe thead th {\n",
       "        text-align: right;\n",
       "    }\n",
       "</style>\n",
       "<table border=\"1\" class=\"dataframe\">\n",
       "  <thead>\n",
       "    <tr style=\"text-align: right;\">\n",
       "      <th></th>\n",
       "      <th>agebracket</th>\n",
       "      <th>backupnotes</th>\n",
       "      <th>contractedfromwhichpatientsuspected</th>\n",
       "      <th>currentstatus</th>\n",
       "      <th>dateannounced</th>\n",
       "      <th>detectedcity</th>\n",
       "      <th>detecteddistrict</th>\n",
       "      <th>detectedstate</th>\n",
       "      <th>estimatedonsetdate</th>\n",
       "      <th>gender</th>\n",
       "      <th>nationality</th>\n",
       "      <th>notes</th>\n",
       "      <th>patientnumber</th>\n",
       "      <th>source1</th>\n",
       "      <th>source2</th>\n",
       "      <th>source3</th>\n",
       "      <th>statecode</th>\n",
       "      <th>statepatientnumber</th>\n",
       "      <th>statuschangedate</th>\n",
       "      <th>typeoftransmission</th>\n",
       "    </tr>\n",
       "  </thead>\n",
       "  <tbody>\n",
       "    <tr>\n",
       "      <th>0</th>\n",
       "      <td>20</td>\n",
       "      <td>Student from Wuhan</td>\n",
       "      <td></td>\n",
       "      <td>Recovered</td>\n",
       "      <td>30/01/2020</td>\n",
       "      <td>Thrissur</td>\n",
       "      <td>Thrissur</td>\n",
       "      <td>Kerala</td>\n",
       "      <td></td>\n",
       "      <td>F</td>\n",
       "      <td>India</td>\n",
       "      <td>Travelled from Wuhan</td>\n",
       "      <td>1</td>\n",
       "      <td>https://twitter.com/vijayanpinarayi/status/122...</td>\n",
       "      <td>https://weather.com/en-IN/india/news/news/2020...</td>\n",
       "      <td></td>\n",
       "      <td>KL</td>\n",
       "      <td>KL-TS-P1</td>\n",
       "      <td>14/02/2020</td>\n",
       "      <td>Imported</td>\n",
       "    </tr>\n",
       "    <tr>\n",
       "      <th>1</th>\n",
       "      <td></td>\n",
       "      <td>Student from Wuhan</td>\n",
       "      <td></td>\n",
       "      <td>Recovered</td>\n",
       "      <td>02/02/2020</td>\n",
       "      <td>Alappuzha</td>\n",
       "      <td>Alappuzha</td>\n",
       "      <td>Kerala</td>\n",
       "      <td></td>\n",
       "      <td></td>\n",
       "      <td>India</td>\n",
       "      <td>Travelled from Wuhan</td>\n",
       "      <td>2</td>\n",
       "      <td>https://www.indiatoday.in/india/story/kerala-r...</td>\n",
       "      <td>https://weather.com/en-IN/india/news/news/2020...</td>\n",
       "      <td></td>\n",
       "      <td>KL</td>\n",
       "      <td>KL-AL-P1</td>\n",
       "      <td>14/02/2020</td>\n",
       "      <td>Imported</td>\n",
       "    </tr>\n",
       "    <tr>\n",
       "      <th>2</th>\n",
       "      <td></td>\n",
       "      <td>Student from Wuhan</td>\n",
       "      <td></td>\n",
       "      <td>Recovered</td>\n",
       "      <td>03/02/2020</td>\n",
       "      <td>Kasaragod</td>\n",
       "      <td>Kasaragod</td>\n",
       "      <td>Kerala</td>\n",
       "      <td></td>\n",
       "      <td></td>\n",
       "      <td>India</td>\n",
       "      <td>Travelled from Wuhan</td>\n",
       "      <td>3</td>\n",
       "      <td>https://www.indiatoday.in/india/story/kerala-n...</td>\n",
       "      <td>https://twitter.com/ANI/status/122422148580539...</td>\n",
       "      <td>https://weather.com/en-IN/india/news/news/2020...</td>\n",
       "      <td>KL</td>\n",
       "      <td>KL-KS-P1</td>\n",
       "      <td>14/02/2020</td>\n",
       "      <td>Imported</td>\n",
       "    </tr>\n",
       "  </tbody>\n",
       "</table>\n",
       "</div>"
      ],
      "text/plain": [
       "  agebracket         backupnotes contractedfromwhichpatientsuspected  \\\n",
       "0         20  Student from Wuhan                                       \n",
       "1             Student from Wuhan                                       \n",
       "2             Student from Wuhan                                       \n",
       "\n",
       "  currentstatus dateannounced detectedcity detecteddistrict detectedstate  \\\n",
       "0     Recovered    30/01/2020     Thrissur         Thrissur        Kerala   \n",
       "1     Recovered    02/02/2020    Alappuzha        Alappuzha        Kerala   \n",
       "2     Recovered    03/02/2020    Kasaragod        Kasaragod        Kerala   \n",
       "\n",
       "  estimatedonsetdate gender nationality                 notes patientnumber  \\\n",
       "0                         F       India  Travelled from Wuhan             1   \n",
       "1                                 India  Travelled from Wuhan             2   \n",
       "2                                 India  Travelled from Wuhan             3   \n",
       "\n",
       "                                             source1  \\\n",
       "0  https://twitter.com/vijayanpinarayi/status/122...   \n",
       "1  https://www.indiatoday.in/india/story/kerala-r...   \n",
       "2  https://www.indiatoday.in/india/story/kerala-n...   \n",
       "\n",
       "                                             source2  \\\n",
       "0  https://weather.com/en-IN/india/news/news/2020...   \n",
       "1  https://weather.com/en-IN/india/news/news/2020...   \n",
       "2  https://twitter.com/ANI/status/122422148580539...   \n",
       "\n",
       "                                             source3 statecode  \\\n",
       "0                                                           KL   \n",
       "1                                                           KL   \n",
       "2  https://weather.com/en-IN/india/news/news/2020...        KL   \n",
       "\n",
       "  statepatientnumber statuschangedate typeoftransmission  \n",
       "0           KL-TS-P1       14/02/2020           Imported  \n",
       "1           KL-AL-P1       14/02/2020           Imported  \n",
       "2           KL-KS-P1       14/02/2020           Imported  "
      ]
     },
     "execution_count": 40,
     "metadata": {},
     "output_type": "execute_result"
    }
   ],
   "source": [
    "# save data in a dataframe\n",
    "df = pd.DataFrame(parsed['raw_data'])\n",
    "# first 3 rows of the dataframe\n",
    "df.head(3)"
   ]
  },
  {
   "cell_type": "code",
   "execution_count": 41,
   "metadata": {},
   "outputs": [
    {
     "data": {
      "text/plain": [
       "(24763, 20)"
      ]
     },
     "execution_count": 41,
     "metadata": {},
     "output_type": "execute_result"
    }
   ],
   "source": [
    "# shade of the dataframe\n",
    "df.shape"
   ]
  },
  {
   "cell_type": "code",
   "execution_count": 42,
   "metadata": {},
   "outputs": [
    {
     "data": {
      "text/plain": [
       "Index(['agebracket', 'backupnotes', 'contractedfromwhichpatientsuspected',\n",
       "       'currentstatus', 'dateannounced', 'detectedcity', 'detecteddistrict',\n",
       "       'detectedstate', 'estimatedonsetdate', 'gender', 'nationality', 'notes',\n",
       "       'patientnumber', 'source1', 'source2', 'source3', 'statecode',\n",
       "       'statepatientnumber', 'statuschangedate', 'typeoftransmission'],\n",
       "      dtype='object')"
      ]
     },
     "execution_count": 42,
     "metadata": {},
     "output_type": "execute_result"
    }
   ],
   "source": [
    "# list of columns\n",
    "df.columns"
   ]
  },
  {
   "cell_type": "code",
   "execution_count": 43,
   "metadata": {},
   "outputs": [
    {
     "data": {
      "text/plain": [
       "Index(['agebracket', 'backupnotes', 'contractedfromwhichpatientsuspected',\n",
       "       'currentstatus', 'dateannounced', 'detectedcity', 'detecteddistrict',\n",
       "       'detectedstate', 'estimatedonsetdate', 'gender', 'nationality', 'notes',\n",
       "       'patientnumber', 'source1', 'source2', 'source3', 'statecode',\n",
       "       'statepatientnumber', 'statuschangedate', 'typeoftransmission', 'p_id'],\n",
       "      dtype='object')"
      ]
     },
     "execution_count": 43,
     "metadata": {},
     "output_type": "execute_result"
    }
   ],
   "source": [
    "# creating patient id column from patient number\n",
    "# ===============================================\n",
    "\n",
    "df['p_id'] = df['patientnumber'].apply(lambda x : 'P'+str(x))\n",
    "df.columns"
   ]
  },
  {
   "cell_type": "markdown",
   "metadata": {},
   "source": [
    "## Rearrange and rename columns"
   ]
  },
  {
   "cell_type": "code",
   "execution_count": 44,
   "metadata": {},
   "outputs": [
    {
     "data": {
      "text/plain": [
       "(24763, 21)"
      ]
     },
     "execution_count": 44,
     "metadata": {},
     "output_type": "execute_result"
    }
   ],
   "source": [
    "# order of columns\n",
    "cols = ['patientnumber', 'p_id', 'statepatientnumber', \n",
    "        'dateannounced', 'agebracket', 'gender', \n",
    "        'detectedcity', 'detecteddistrict', 'detectedstate', 'statecode', 'nationality',\n",
    "        'typeoftransmission', 'contractedfromwhichpatientsuspected',\n",
    "        'statuschangedate', 'currentstatus', 'estimatedonsetdate',\n",
    "        'source1', 'source2', 'source3', 'notes', 'backupnotes']\n",
    "\n",
    "# rearrange columns\n",
    "df = df[cols]\n",
    "\n",
    "# rename columns\n",
    "df.columns = ['patient_number', 'p_id', 'state_patient_number', \n",
    "              'date_announced', 'age_bracket', 'gender', \n",
    "              'detected_city', 'detected_district', 'detected_state', 'state_code', 'nationality',\n",
    "              'type_of_transmission', 'contracted_from_which_patient_suspected',\n",
    "              'status_change_date', 'current_status', 'estimated_onset_date',\n",
    "              'source1', 'source2', 'source3', 'notes', 'backup_notes']\n",
    "\n",
    "# dataframe shape\n",
    "df.shape"
   ]
  },
  {
   "cell_type": "code",
   "execution_count": 45,
   "metadata": {},
   "outputs": [
    {
     "data": {
      "text/html": [
       "<div>\n",
       "<style scoped>\n",
       "    .dataframe tbody tr th:only-of-type {\n",
       "        vertical-align: middle;\n",
       "    }\n",
       "\n",
       "    .dataframe tbody tr th {\n",
       "        vertical-align: top;\n",
       "    }\n",
       "\n",
       "    .dataframe thead th {\n",
       "        text-align: right;\n",
       "    }\n",
       "</style>\n",
       "<table border=\"1\" class=\"dataframe\">\n",
       "  <thead>\n",
       "    <tr style=\"text-align: right;\">\n",
       "      <th></th>\n",
       "      <th>patient_number</th>\n",
       "      <th>p_id</th>\n",
       "      <th>state_patient_number</th>\n",
       "      <th>date_announced</th>\n",
       "      <th>age_bracket</th>\n",
       "      <th>gender</th>\n",
       "      <th>detected_city</th>\n",
       "      <th>detected_district</th>\n",
       "      <th>detected_state</th>\n",
       "      <th>state_code</th>\n",
       "      <th>...</th>\n",
       "      <th>type_of_transmission</th>\n",
       "      <th>contracted_from_which_patient_suspected</th>\n",
       "      <th>status_change_date</th>\n",
       "      <th>current_status</th>\n",
       "      <th>estimated_onset_date</th>\n",
       "      <th>source1</th>\n",
       "      <th>source2</th>\n",
       "      <th>source3</th>\n",
       "      <th>notes</th>\n",
       "      <th>backup_notes</th>\n",
       "    </tr>\n",
       "  </thead>\n",
       "  <tbody>\n",
       "    <tr>\n",
       "      <th>0</th>\n",
       "      <td>1</td>\n",
       "      <td>P1</td>\n",
       "      <td>KL-TS-P1</td>\n",
       "      <td>30/01/2020</td>\n",
       "      <td>20</td>\n",
       "      <td>F</td>\n",
       "      <td>Thrissur</td>\n",
       "      <td>Thrissur</td>\n",
       "      <td>Kerala</td>\n",
       "      <td>KL</td>\n",
       "      <td>...</td>\n",
       "      <td>Imported</td>\n",
       "      <td></td>\n",
       "      <td>14/02/2020</td>\n",
       "      <td>Recovered</td>\n",
       "      <td></td>\n",
       "      <td>https://twitter.com/vijayanpinarayi/status/122...</td>\n",
       "      <td>https://weather.com/en-IN/india/news/news/2020...</td>\n",
       "      <td></td>\n",
       "      <td>Travelled from Wuhan</td>\n",
       "      <td>Student from Wuhan</td>\n",
       "    </tr>\n",
       "    <tr>\n",
       "      <th>1</th>\n",
       "      <td>2</td>\n",
       "      <td>P2</td>\n",
       "      <td>KL-AL-P1</td>\n",
       "      <td>02/02/2020</td>\n",
       "      <td></td>\n",
       "      <td></td>\n",
       "      <td>Alappuzha</td>\n",
       "      <td>Alappuzha</td>\n",
       "      <td>Kerala</td>\n",
       "      <td>KL</td>\n",
       "      <td>...</td>\n",
       "      <td>Imported</td>\n",
       "      <td></td>\n",
       "      <td>14/02/2020</td>\n",
       "      <td>Recovered</td>\n",
       "      <td></td>\n",
       "      <td>https://www.indiatoday.in/india/story/kerala-r...</td>\n",
       "      <td>https://weather.com/en-IN/india/news/news/2020...</td>\n",
       "      <td></td>\n",
       "      <td>Travelled from Wuhan</td>\n",
       "      <td>Student from Wuhan</td>\n",
       "    </tr>\n",
       "    <tr>\n",
       "      <th>2</th>\n",
       "      <td>3</td>\n",
       "      <td>P3</td>\n",
       "      <td>KL-KS-P1</td>\n",
       "      <td>03/02/2020</td>\n",
       "      <td></td>\n",
       "      <td></td>\n",
       "      <td>Kasaragod</td>\n",
       "      <td>Kasaragod</td>\n",
       "      <td>Kerala</td>\n",
       "      <td>KL</td>\n",
       "      <td>...</td>\n",
       "      <td>Imported</td>\n",
       "      <td></td>\n",
       "      <td>14/02/2020</td>\n",
       "      <td>Recovered</td>\n",
       "      <td></td>\n",
       "      <td>https://www.indiatoday.in/india/story/kerala-n...</td>\n",
       "      <td>https://twitter.com/ANI/status/122422148580539...</td>\n",
       "      <td>https://weather.com/en-IN/india/news/news/2020...</td>\n",
       "      <td>Travelled from Wuhan</td>\n",
       "      <td>Student from Wuhan</td>\n",
       "    </tr>\n",
       "  </tbody>\n",
       "</table>\n",
       "<p>3 rows × 21 columns</p>\n",
       "</div>"
      ],
      "text/plain": [
       "  patient_number p_id state_patient_number date_announced age_bracket gender  \\\n",
       "0              1   P1             KL-TS-P1     30/01/2020          20      F   \n",
       "1              2   P2             KL-AL-P1     02/02/2020                      \n",
       "2              3   P3             KL-KS-P1     03/02/2020                      \n",
       "\n",
       "  detected_city detected_district detected_state state_code  ...  \\\n",
       "0      Thrissur          Thrissur         Kerala         KL  ...   \n",
       "1     Alappuzha         Alappuzha         Kerala         KL  ...   \n",
       "2     Kasaragod         Kasaragod         Kerala         KL  ...   \n",
       "\n",
       "  type_of_transmission contracted_from_which_patient_suspected  \\\n",
       "0             Imported                                           \n",
       "1             Imported                                           \n",
       "2             Imported                                           \n",
       "\n",
       "  status_change_date current_status estimated_onset_date  \\\n",
       "0         14/02/2020      Recovered                        \n",
       "1         14/02/2020      Recovered                        \n",
       "2         14/02/2020      Recovered                        \n",
       "\n",
       "                                             source1  \\\n",
       "0  https://twitter.com/vijayanpinarayi/status/122...   \n",
       "1  https://www.indiatoday.in/india/story/kerala-r...   \n",
       "2  https://www.indiatoday.in/india/story/kerala-n...   \n",
       "\n",
       "                                             source2  \\\n",
       "0  https://weather.com/en-IN/india/news/news/2020...   \n",
       "1  https://weather.com/en-IN/india/news/news/2020...   \n",
       "2  https://twitter.com/ANI/status/122422148580539...   \n",
       "\n",
       "                                             source3                 notes  \\\n",
       "0                                                     Travelled from Wuhan   \n",
       "1                                                     Travelled from Wuhan   \n",
       "2  https://weather.com/en-IN/india/news/news/2020...  Travelled from Wuhan   \n",
       "\n",
       "         backup_notes  \n",
       "0  Student from Wuhan  \n",
       "1  Student from Wuhan  \n",
       "2  Student from Wuhan  \n",
       "\n",
       "[3 rows x 21 columns]"
      ]
     },
     "execution_count": 45,
     "metadata": {},
     "output_type": "execute_result"
    }
   ],
   "source": [
    "# first 3 rows of the dataframe\n",
    "df.head(3)"
   ]
  },
  {
   "cell_type": "markdown",
   "metadata": {},
   "source": [
    "## Missing values"
   ]
  },
  {
   "cell_type": "code",
   "execution_count": 46,
   "metadata": {
    "scrolled": true
   },
   "outputs": [
    {
     "name": "stdout",
     "output_type": "stream",
     "text": [
      "(24763, 21) \n",
      "\n",
      "patient_number \t 0\n",
      "p_id \t 0\n",
      "state_patient_number \t 21913\n",
      "date_announced \t 148\n",
      "age_bracket \t 22637\n",
      "gender \t 19675\n",
      "detected_city \t 22456\n",
      "detected_district \t 6092\n",
      "detected_state \t 150\n",
      "state_code \t 150\n",
      "nationality \t 22066\n",
      "type_of_transmission \t 21781\n",
      "contracted_from_which_patient_suspected \t 23225\n",
      "status_change_date \t 259\n",
      "current_status \t 148\n",
      "estimated_onset_date \t 24763\n",
      "source1 \t 532\n",
      "source2 \t 20893\n",
      "source3 \t 24313\n",
      "notes \t 1466\n",
      "backup_notes \t 24402\n"
     ]
    }
   ],
   "source": [
    "# no. of empty values in each column\n",
    "# ==================================\n",
    "\n",
    "print(df.shape, '\\n')\n",
    "\n",
    "for i in df.columns:\n",
    "    print(i, '\\t', df[df[i]==''].shape[0])"
   ]
  },
  {
   "cell_type": "code",
   "execution_count": 47,
   "metadata": {},
   "outputs": [
    {
     "name": "stdout",
     "output_type": "stream",
     "text": [
      "(24763, 21) \n",
      "\n",
      "patient_number \t 24763\n",
      "p_id \t 24763\n",
      "state_patient_number \t 2850\n",
      "date_announced \t 24615\n",
      "age_bracket \t 2126\n",
      "gender \t 5088\n",
      "detected_city \t 2307\n",
      "detected_district \t 18671\n",
      "detected_state \t 24613\n",
      "state_code \t 24613\n",
      "nationality \t 2697\n",
      "type_of_transmission \t 2982\n",
      "contracted_from_which_patient_suspected \t 1538\n",
      "status_change_date \t 24504\n",
      "current_status \t 24615\n",
      "estimated_onset_date \t 0\n",
      "source1 \t 24231\n",
      "source2 \t 3870\n",
      "source3 \t 450\n",
      "notes \t 23297\n",
      "backup_notes \t 361\n"
     ]
    }
   ],
   "source": [
    "# no. of non-empty values in each column\n",
    "# ===================================\n",
    "\n",
    "print(df.shape, '\\n')\n",
    "\n",
    "for i in df.columns:\n",
    "    print(i, '\\t', df[df[i]!=''].shape[0])"
   ]
  },
  {
   "cell_type": "code",
   "execution_count": 48,
   "metadata": {},
   "outputs": [
    {
     "name": "stdout",
     "output_type": "stream",
     "text": [
      "(24763, 21)\n"
     ]
    },
    {
     "data": {
      "text/plain": [
       "patient_number                                 0\n",
       "p_id                                           0\n",
       "state_patient_number                       21913\n",
       "date_announced                               148\n",
       "age_bracket                                22637\n",
       "gender                                     19675\n",
       "detected_city                              22456\n",
       "detected_district                           6092\n",
       "detected_state                               150\n",
       "state_code                                   150\n",
       "nationality                                22066\n",
       "type_of_transmission                       21781\n",
       "contracted_from_which_patient_suspected    23225\n",
       "status_change_date                           259\n",
       "current_status                               148\n",
       "estimated_onset_date                       24763\n",
       "source1                                      532\n",
       "source2                                    20893\n",
       "source3                                    24313\n",
       "notes                                       1466\n",
       "backup_notes                               24402\n",
       "dtype: int64"
      ]
     },
     "execution_count": 48,
     "metadata": {},
     "output_type": "execute_result"
    }
   ],
   "source": [
    "# replacing empty strings with np.nan\n",
    "# ==================================-\n",
    "\n",
    "print(df.shape)\n",
    "\n",
    "df = df.replace(r'', np.nan, regex=True)\n",
    "df.isna().sum()"
   ]
  },
  {
   "cell_type": "code",
   "execution_count": 49,
   "metadata": {},
   "outputs": [
    {
     "name": "stdout",
     "output_type": "stream",
     "text": [
      "(24763, 21)\n",
      "(24613, 21)\n"
     ]
    },
    {
     "data": {
      "text/plain": [
       "patient_number                                 0\n",
       "p_id                                           0\n",
       "state_patient_number                       21763\n",
       "date_announced                                 0\n",
       "age_bracket                                22488\n",
       "gender                                     19526\n",
       "detected_city                              22306\n",
       "detected_district                           5943\n",
       "detected_state                                 0\n",
       "state_code                                     0\n",
       "nationality                                21917\n",
       "type_of_transmission                       21632\n",
       "contracted_from_which_patient_suspected    23075\n",
       "status_change_date                           110\n",
       "current_status                                 0\n",
       "estimated_onset_date                       24613\n",
       "source1                                      384\n",
       "source2                                    20744\n",
       "source3                                    24164\n",
       "notes                                       1317\n",
       "backup_notes                               24252\n",
       "dtype: int64"
      ]
     },
     "execution_count": 49,
     "metadata": {},
     "output_type": "execute_result"
    }
   ],
   "source": [
    "# droping empty rows (row with just row number but without patient entry\n",
    "# ======================================================================\n",
    "\n",
    "print(df.shape)\n",
    "\n",
    "df.dropna(subset=['detected_state'], inplace=True)\n",
    "\n",
    "print(df.shape)\n",
    "df.isna().sum()"
   ]
  },
  {
   "cell_type": "markdown",
   "metadata": {},
   "source": [
    "## Save data"
   ]
  },
  {
   "cell_type": "code",
   "execution_count": 50,
   "metadata": {},
   "outputs": [],
   "source": [
    "# save to csv`\n",
    "df.to_csv('patients_data.csv', index=False)"
   ]
  },
  {
   "cell_type": "markdown",
   "metadata": {},
   "source": [
    "## State wise Daily"
   ]
  },
  {
   "cell_type": "code",
   "execution_count": 51,
   "metadata": {},
   "outputs": [],
   "source": [
    "# response = requests.get('https://api.covid19india.org/states_daily.json')\n",
    "# content = response.content\n",
    "# parsed = json.loads(content)\n",
    "\n",
    "# df = pd.DataFrame(parsed['states_daily'])"
   ]
  },
  {
   "cell_type": "code",
   "execution_count": null,
   "metadata": {},
   "outputs": [],
   "source": []
  },
  {
   "cell_type": "code",
   "execution_count": 52,
   "metadata": {},
   "outputs": [],
   "source": [
    "# df = df.melt(id_vars = ['date', 'status'], \n",
    "#              value_vars = ['an', 'ap', 'ar', 'as', 'br', 'ch', 'ct', 'dd', \n",
    "#                     'dl', 'dn', 'ga', 'gj', 'hp', 'hr', 'jh', 'jk', \n",
    "#                     'ka', 'kl', 'la', 'ld', 'mh', 'ml', 'mn', 'mp',\n",
    "#                     'mz', 'nl', 'or', 'pb', 'py', 'rj', 'sk', 'tg', \n",
    "#                     'tn', 'tr', 'tt', 'up', 'ut', 'wb'], \n",
    "#              var_name='state', value_name='count')\n",
    "\n",
    "# df = df.set_index(['date', 'state'])\n",
    "\n",
    "# df = df.pivot(columns = 'status').reset_index()\n",
    "\n",
    "# df.columns = df.columns.droplevel(0)\n",
    "# df.columns.name = ''\n",
    "\n",
    "# df.columns = ['Date', 'State', 'Confirmed', 'Deceased', 'Recovered']\n",
    "# df.head()"
   ]
  },
  {
   "cell_type": "code",
   "execution_count": 53,
   "metadata": {},
   "outputs": [],
   "source": [
    "# response = requests.get('https://api.covid19india.org/csv/')\n",
    "# parsed = response.content.decode('utf-8')\n",
    "# parsed\n",
    "\n",
    "# df = pd.DataFrame(parsed, sep=',')\n",
    "# df.head()"
   ]
  },
  {
   "cell_type": "code",
   "execution_count": 54,
   "metadata": {},
   "outputs": [],
   "source": [
    "# pd.DataFrame('http://api.covid19india.org/states_daily_csv/confirmed.csv')"
   ]
  },
  {
   "cell_type": "code",
   "execution_count": 55,
   "metadata": {},
   "outputs": [],
   "source": [
    "# pd.read_csv('https://api.covid19india.org/csv/')"
   ]
  },
  {
   "cell_type": "markdown",
   "metadata": {},
   "source": [
    "## States Daily changes"
   ]
  },
  {
   "cell_type": "code",
   "execution_count": 56,
   "metadata": {},
   "outputs": [],
   "source": [
    "# response = requests.get('https://api.covid19india.org/states_daily.json')\n",
    "# content = response.content\n",
    "# parsed = json.loads(content)"
   ]
  },
  {
   "cell_type": "code",
   "execution_count": 57,
   "metadata": {},
   "outputs": [],
   "source": [
    "# pd.DataFrame(parsed['states_daily'])"
   ]
  },
  {
   "cell_type": "markdown",
   "metadata": {},
   "source": [
    "## National time series, statewise stats and test counts"
   ]
  },
  {
   "cell_type": "code",
   "execution_count": 58,
   "metadata": {},
   "outputs": [],
   "source": [
    "# response = requests.get('https://api.covid19india.org/data.json')\n",
    "# content = response.content\n",
    "# parsed = json.loads(content)\n",
    "# parsed.keys()"
   ]
  },
  {
   "cell_type": "code",
   "execution_count": 59,
   "metadata": {},
   "outputs": [],
   "source": [
    "# day_wise = pd.DataFrame(parsed['cases_time_series'])\n",
    "# day_wise.head()"
   ]
  },
  {
   "cell_type": "code",
   "execution_count": 60,
   "metadata": {},
   "outputs": [],
   "source": [
    "# state_wise = pd.DataFrame(parsed['statewise'])\n",
    "# state_wise.head()"
   ]
  },
  {
   "cell_type": "code",
   "execution_count": 61,
   "metadata": {},
   "outputs": [],
   "source": [
    "# tested = pd.DataFrame(parsed['tested'])\n",
    "# tested.head()"
   ]
  },
  {
   "cell_type": "markdown",
   "metadata": {},
   "source": [
    "## District wise"
   ]
  },
  {
   "cell_type": "code",
   "execution_count": 62,
   "metadata": {},
   "outputs": [],
   "source": [
    "# response = requests.get('https://api.covid19india.org/state_district_wise.json')\n",
    "# content = response.content\n",
    "# parsed = json.loads(content)\n",
    "# parsed.keys()"
   ]
  },
  {
   "cell_type": "code",
   "execution_count": 63,
   "metadata": {},
   "outputs": [],
   "source": [
    "# pd.DataFrame(parsed['Goa'])"
   ]
  },
  {
   "cell_type": "code",
   "execution_count": 64,
   "metadata": {},
   "outputs": [],
   "source": [
    "# parsed['Goa'].keys()"
   ]
  },
  {
   "cell_type": "code",
   "execution_count": 65,
   "metadata": {},
   "outputs": [],
   "source": [
    "# pd.DataFrame(parsed['Goa']['districtData'])"
   ]
  },
  {
   "cell_type": "markdown",
   "metadata": {},
   "source": [
    "## District wise v2"
   ]
  },
  {
   "cell_type": "code",
   "execution_count": 66,
   "metadata": {},
   "outputs": [],
   "source": [
    "# response = requests.get('https://api.covid19india.org/v2/state_district_wise.json')\n",
    "# content = response.content\n",
    "# parsed = json.loads(content)\n",
    "# len(parsed)"
   ]
  },
  {
   "cell_type": "code",
   "execution_count": 67,
   "metadata": {},
   "outputs": [],
   "source": [
    "# pd.DataFrame(parsed[1]['districtData'])"
   ]
  },
  {
   "cell_type": "markdown",
   "metadata": {},
   "source": [
    "## Travel history (no more updated)"
   ]
  },
  {
   "cell_type": "code",
   "execution_count": 68,
   "metadata": {},
   "outputs": [],
   "source": [
    "# response = requests.get('https://api.covid19india.org/travel_history.json')\n",
    "# content = response.content\n",
    "# parsed = json.loads(content)\n",
    "# parsed.keys()"
   ]
  },
  {
   "cell_type": "code",
   "execution_count": 69,
   "metadata": {},
   "outputs": [],
   "source": [
    "# th = pd.DataFrame(parsed['travel_history'])\n",
    "# th.head()"
   ]
  }
 ],
 "metadata": {
  "kernelspec": {
   "display_name": "Python 3",
   "language": "python",
   "name": "python3"
  },
  "language_info": {
   "codemirror_mode": {
    "name": "ipython",
    "version": 3
   },
   "file_extension": ".py",
   "mimetype": "text/x-python",
   "name": "python",
   "nbconvert_exporter": "python",
   "pygments_lexer": "ipython3",
   "version": "3.7.7"
  }
 },
 "nbformat": 4,
 "nbformat_minor": 4
}
